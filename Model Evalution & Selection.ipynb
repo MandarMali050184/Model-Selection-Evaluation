{
 "cells": [
  {
   "cell_type": "markdown",
   "id": "efd0f0a6",
   "metadata": {},
   "source": [
    "# Data Preprocessing:"
   ]
  },
  {
   "cell_type": "markdown",
   "id": "d93fdd67",
   "metadata": {},
   "source": [
    "# Load Data"
   ]
  },
  {
   "cell_type": "code",
   "execution_count": 22,
   "id": "28b72c2b",
   "metadata": {},
   "outputs": [
    {
     "data": {
      "text/html": [
       "<div>\n",
       "<style scoped>\n",
       "    .dataframe tbody tr th:only-of-type {\n",
       "        vertical-align: middle;\n",
       "    }\n",
       "\n",
       "    .dataframe tbody tr th {\n",
       "        vertical-align: top;\n",
       "    }\n",
       "\n",
       "    .dataframe thead th {\n",
       "        text-align: right;\n",
       "    }\n",
       "</style>\n",
       "<table border=\"1\" class=\"dataframe\">\n",
       "  <thead>\n",
       "    <tr style=\"text-align: right;\">\n",
       "      <th></th>\n",
       "      <th>name</th>\n",
       "      <th>year</th>\n",
       "      <th>selling_price</th>\n",
       "      <th>km_driven</th>\n",
       "      <th>fuel</th>\n",
       "      <th>seller_type</th>\n",
       "      <th>transmission</th>\n",
       "      <th>owner</th>\n",
       "    </tr>\n",
       "  </thead>\n",
       "  <tbody>\n",
       "    <tr>\n",
       "      <th>0</th>\n",
       "      <td>Maruti 800 AC</td>\n",
       "      <td>2007</td>\n",
       "      <td>60000</td>\n",
       "      <td>70000</td>\n",
       "      <td>Petrol</td>\n",
       "      <td>Individual</td>\n",
       "      <td>Manual</td>\n",
       "      <td>First Owner</td>\n",
       "    </tr>\n",
       "    <tr>\n",
       "      <th>1</th>\n",
       "      <td>Maruti Wagon R LXI Minor</td>\n",
       "      <td>2007</td>\n",
       "      <td>135000</td>\n",
       "      <td>50000</td>\n",
       "      <td>Petrol</td>\n",
       "      <td>Individual</td>\n",
       "      <td>Manual</td>\n",
       "      <td>First Owner</td>\n",
       "    </tr>\n",
       "    <tr>\n",
       "      <th>2</th>\n",
       "      <td>Hyundai Verna 1.6 SX</td>\n",
       "      <td>2012</td>\n",
       "      <td>600000</td>\n",
       "      <td>100000</td>\n",
       "      <td>Diesel</td>\n",
       "      <td>Individual</td>\n",
       "      <td>Manual</td>\n",
       "      <td>First Owner</td>\n",
       "    </tr>\n",
       "    <tr>\n",
       "      <th>3</th>\n",
       "      <td>Datsun RediGO T Option</td>\n",
       "      <td>2017</td>\n",
       "      <td>250000</td>\n",
       "      <td>46000</td>\n",
       "      <td>Petrol</td>\n",
       "      <td>Individual</td>\n",
       "      <td>Manual</td>\n",
       "      <td>First Owner</td>\n",
       "    </tr>\n",
       "    <tr>\n",
       "      <th>4</th>\n",
       "      <td>Honda Amaze VX i-DTEC</td>\n",
       "      <td>2014</td>\n",
       "      <td>450000</td>\n",
       "      <td>141000</td>\n",
       "      <td>Diesel</td>\n",
       "      <td>Individual</td>\n",
       "      <td>Manual</td>\n",
       "      <td>Second Owner</td>\n",
       "    </tr>\n",
       "    <tr>\n",
       "      <th>...</th>\n",
       "      <td>...</td>\n",
       "      <td>...</td>\n",
       "      <td>...</td>\n",
       "      <td>...</td>\n",
       "      <td>...</td>\n",
       "      <td>...</td>\n",
       "      <td>...</td>\n",
       "      <td>...</td>\n",
       "    </tr>\n",
       "    <tr>\n",
       "      <th>4335</th>\n",
       "      <td>Hyundai i20 Magna 1.4 CRDi (Diesel)</td>\n",
       "      <td>2014</td>\n",
       "      <td>409999</td>\n",
       "      <td>80000</td>\n",
       "      <td>Diesel</td>\n",
       "      <td>Individual</td>\n",
       "      <td>Manual</td>\n",
       "      <td>Second Owner</td>\n",
       "    </tr>\n",
       "    <tr>\n",
       "      <th>4336</th>\n",
       "      <td>Hyundai i20 Magna 1.4 CRDi</td>\n",
       "      <td>2014</td>\n",
       "      <td>409999</td>\n",
       "      <td>80000</td>\n",
       "      <td>Diesel</td>\n",
       "      <td>Individual</td>\n",
       "      <td>Manual</td>\n",
       "      <td>Second Owner</td>\n",
       "    </tr>\n",
       "    <tr>\n",
       "      <th>4337</th>\n",
       "      <td>Maruti 800 AC BSIII</td>\n",
       "      <td>2009</td>\n",
       "      <td>110000</td>\n",
       "      <td>83000</td>\n",
       "      <td>Petrol</td>\n",
       "      <td>Individual</td>\n",
       "      <td>Manual</td>\n",
       "      <td>Second Owner</td>\n",
       "    </tr>\n",
       "    <tr>\n",
       "      <th>4338</th>\n",
       "      <td>Hyundai Creta 1.6 CRDi SX Option</td>\n",
       "      <td>2016</td>\n",
       "      <td>865000</td>\n",
       "      <td>90000</td>\n",
       "      <td>Diesel</td>\n",
       "      <td>Individual</td>\n",
       "      <td>Manual</td>\n",
       "      <td>First Owner</td>\n",
       "    </tr>\n",
       "    <tr>\n",
       "      <th>4339</th>\n",
       "      <td>Renault KWID RXT</td>\n",
       "      <td>2016</td>\n",
       "      <td>225000</td>\n",
       "      <td>40000</td>\n",
       "      <td>Petrol</td>\n",
       "      <td>Individual</td>\n",
       "      <td>Manual</td>\n",
       "      <td>First Owner</td>\n",
       "    </tr>\n",
       "  </tbody>\n",
       "</table>\n",
       "<p>4340 rows × 8 columns</p>\n",
       "</div>"
      ],
      "text/plain": [
       "                                     name  year  selling_price  km_driven  \\\n",
       "0                           Maruti 800 AC  2007          60000      70000   \n",
       "1                Maruti Wagon R LXI Minor  2007         135000      50000   \n",
       "2                    Hyundai Verna 1.6 SX  2012         600000     100000   \n",
       "3                  Datsun RediGO T Option  2017         250000      46000   \n",
       "4                   Honda Amaze VX i-DTEC  2014         450000     141000   \n",
       "...                                   ...   ...            ...        ...   \n",
       "4335  Hyundai i20 Magna 1.4 CRDi (Diesel)  2014         409999      80000   \n",
       "4336           Hyundai i20 Magna 1.4 CRDi  2014         409999      80000   \n",
       "4337                  Maruti 800 AC BSIII  2009         110000      83000   \n",
       "4338     Hyundai Creta 1.6 CRDi SX Option  2016         865000      90000   \n",
       "4339                     Renault KWID RXT  2016         225000      40000   \n",
       "\n",
       "        fuel seller_type transmission         owner  \n",
       "0     Petrol  Individual       Manual   First Owner  \n",
       "1     Petrol  Individual       Manual   First Owner  \n",
       "2     Diesel  Individual       Manual   First Owner  \n",
       "3     Petrol  Individual       Manual   First Owner  \n",
       "4     Diesel  Individual       Manual  Second Owner  \n",
       "...      ...         ...          ...           ...  \n",
       "4335  Diesel  Individual       Manual  Second Owner  \n",
       "4336  Diesel  Individual       Manual  Second Owner  \n",
       "4337  Petrol  Individual       Manual  Second Owner  \n",
       "4338  Diesel  Individual       Manual   First Owner  \n",
       "4339  Petrol  Individual       Manual   First Owner  \n",
       "\n",
       "[4340 rows x 8 columns]"
      ]
     },
     "execution_count": 22,
     "metadata": {},
     "output_type": "execute_result"
    }
   ],
   "source": [
    "import pandas as pd\n",
    "df=pd.read_csv(r'C:\\Users\\Mandar\\Downloads\\Car Dataset.csv')\n",
    "df"
   ]
  },
  {
   "cell_type": "code",
   "execution_count": 23,
   "id": "2bc24ff3",
   "metadata": {},
   "outputs": [
    {
     "data": {
      "text/plain": [
       "name             0\n",
       "year             0\n",
       "selling_price    0\n",
       "km_driven        0\n",
       "fuel             0\n",
       "seller_type      0\n",
       "transmission     0\n",
       "owner            0\n",
       "dtype: int64"
      ]
     },
     "execution_count": 23,
     "metadata": {},
     "output_type": "execute_result"
    }
   ],
   "source": [
    "df.isnull().sum()"
   ]
  },
  {
   "cell_type": "markdown",
   "id": "4d93f649",
   "metadata": {},
   "source": [
    "# feature engineering:\n",
    "\n",
    "1. Data Cleaning\n",
    "2. Handling null data\n",
    "3. Handling Outliers\n",
    "4. Encode the object data type column of the dataframe.\n",
    "5. Removing skewness\n",
    "6. Scale the data\n",
    "7. Train test split"
   ]
  },
  {
   "cell_type": "markdown",
   "id": "441244c5",
   "metadata": {},
   "source": [
    "# Data cleaning:\n",
    "It is a method in data science which helps in preparing the data according to business need.\n",
    "\n",
    "Handling Nan values:\n",
    "No need to Handling Nan value."
   ]
  },
  {
   "cell_type": "code",
   "execution_count": 24,
   "id": "8cf1c4f8",
   "metadata": {},
   "outputs": [
    {
     "data": {
      "text/plain": [
       "name             object\n",
       "year              int64\n",
       "selling_price     int64\n",
       "km_driven         int64\n",
       "fuel             object\n",
       "seller_type      object\n",
       "transmission     object\n",
       "owner            object\n",
       "dtype: object"
      ]
     },
     "execution_count": 24,
     "metadata": {},
     "output_type": "execute_result"
    }
   ],
   "source": [
    "df.dtypes"
   ]
  },
  {
   "cell_type": "code",
   "execution_count": 25,
   "id": "d1a85574",
   "metadata": {},
   "outputs": [
    {
     "name": "stderr",
     "output_type": "stream",
     "text": [
      "C:\\Users\\Mandar\\AppData\\Local\\Temp\\ipykernel_13300\\1665899112.py:1: FutureWarning: Dropping of nuisance columns in DataFrame reductions (with 'numeric_only=None') is deprecated; in a future version this will raise TypeError.  Select only valid columns before calling the reduction.\n",
      "  df.skew()\n"
     ]
    },
    {
     "data": {
      "text/plain": [
       "year            -0.833240\n",
       "selling_price    4.892021\n",
       "km_driven        2.669057\n",
       "dtype: float64"
      ]
     },
     "execution_count": 25,
     "metadata": {},
     "output_type": "execute_result"
    }
   ],
   "source": [
    "df.skew()"
   ]
  },
  {
   "cell_type": "code",
   "execution_count": 26,
   "id": "8e77188e",
   "metadata": {},
   "outputs": [],
   "source": [
    "from sklearn.preprocessing import LabelEncoder\n",
    "le=LabelEncoder()\n",
    "def encode(df):\n",
    "    for col in df.columns:\n",
    "        if df[col].dtypes==\"object\":\n",
    "            df[col]=le.fit_transform(df[col])\n",
    "    return df\n",
    "df=encode(df)"
   ]
  },
  {
   "cell_type": "markdown",
   "id": "73e793cb",
   "metadata": {},
   "source": [
    "# skewness removal: remove skewness from data"
   ]
  },
  {
   "cell_type": "code",
   "execution_count": 27,
   "id": "1633895d",
   "metadata": {},
   "outputs": [
    {
     "name": "stderr",
     "output_type": "stream",
     "text": [
      "C:\\Users\\Mandar\\anaconda3\\lib\\site-packages\\sklearn\\preprocessing\\_data.py:3218: RuntimeWarning: overflow encountered in power\n",
      "  out[pos] = (np.power(x[pos] + 1, lmbda) - 1) / lmbda\n",
      "C:\\Users\\Mandar\\anaconda3\\lib\\site-packages\\numpy\\core\\_methods.py:233: RuntimeWarning: overflow encountered in multiply\n",
      "  x = um.multiply(x, x, out=x)\n",
      "C:\\Users\\Mandar\\anaconda3\\lib\\site-packages\\numpy\\core\\_methods.py:244: RuntimeWarning: overflow encountered in reduce\n",
      "  ret = umr_sum(x, axis, dtype, out, keepdims=keepdims, where=where)\n"
     ]
    }
   ],
   "source": [
    "from sklearn.preprocessing import power_transform\n",
    "def rem_skew(df):\n",
    "    feature_df=df.drop([\"selling_price\"],axis=1)\n",
    "    target_df=df[[\"selling_price\"]]\n",
    "    array_data=power_transform(feature_df,method=\"yeo-johnson\")\n",
    "    feature_df=pd.DataFrame(array_data,columns=feature_df.columns)\n",
    "    df=pd.concat([feature_df,target_df],axis=1)\n",
    "    return df\n",
    "df=rem_skew(df)"
   ]
  },
  {
   "cell_type": "markdown",
   "id": "5aa2e579",
   "metadata": {},
   "source": [
    "# Scale the data:"
   ]
  },
  {
   "cell_type": "markdown",
   "id": "5b6af6a5",
   "metadata": {},
   "source": [
    "# Standerd Scaler"
   ]
  },
  {
   "cell_type": "code",
   "execution_count": 54,
   "id": "8f2123f3",
   "metadata": {},
   "outputs": [
    {
     "data": {
      "text/html": [
       "<div>\n",
       "<style scoped>\n",
       "    .dataframe tbody tr th:only-of-type {\n",
       "        vertical-align: middle;\n",
       "    }\n",
       "\n",
       "    .dataframe tbody tr th {\n",
       "        vertical-align: top;\n",
       "    }\n",
       "\n",
       "    .dataframe thead th {\n",
       "        text-align: right;\n",
       "    }\n",
       "</style>\n",
       "<table border=\"1\" class=\"dataframe\">\n",
       "  <thead>\n",
       "    <tr style=\"text-align: right;\">\n",
       "      <th></th>\n",
       "      <th>name</th>\n",
       "      <th>year</th>\n",
       "      <th>km_driven</th>\n",
       "      <th>fuel</th>\n",
       "      <th>seller_type</th>\n",
       "      <th>transmission</th>\n",
       "      <th>owner</th>\n",
       "      <th>selling_price</th>\n",
       "    </tr>\n",
       "  </thead>\n",
       "  <tbody>\n",
       "    <tr>\n",
       "      <th>0</th>\n",
       "      <td>0.116145</td>\n",
       "      <td>-1.443267</td>\n",
       "      <td>0.283661</td>\n",
       "      <td>1.007753</td>\n",
       "      <td>0.388837</td>\n",
       "      <td>0.339276</td>\n",
       "      <td>-0.727470</td>\n",
       "      <td>-0.767746</td>\n",
       "    </tr>\n",
       "    <tr>\n",
       "      <th>1</th>\n",
       "      <td>0.732892</td>\n",
       "      <td>-1.443267</td>\n",
       "      <td>-0.181462</td>\n",
       "      <td>1.007753</td>\n",
       "      <td>0.388837</td>\n",
       "      <td>0.339276</td>\n",
       "      <td>-0.727470</td>\n",
       "      <td>-0.638096</td>\n",
       "    </tr>\n",
       "    <tr>\n",
       "      <th>2</th>\n",
       "      <td>-0.553219</td>\n",
       "      <td>-0.312741</td>\n",
       "      <td>0.854361</td>\n",
       "      <td>-0.956756</td>\n",
       "      <td>0.388837</td>\n",
       "      <td>0.339276</td>\n",
       "      <td>-0.727470</td>\n",
       "      <td>0.165731</td>\n",
       "    </tr>\n",
       "    <tr>\n",
       "      <th>3</th>\n",
       "      <td>-1.668851</td>\n",
       "      <td>0.954345</td>\n",
       "      <td>-0.286877</td>\n",
       "      <td>1.007753</td>\n",
       "      <td>0.388837</td>\n",
       "      <td>0.339276</td>\n",
       "      <td>-0.727470</td>\n",
       "      <td>-0.439300</td>\n",
       "    </tr>\n",
       "    <tr>\n",
       "      <th>4</th>\n",
       "      <td>-1.168738</td>\n",
       "      <td>0.176844</td>\n",
       "      <td>1.491549</td>\n",
       "      <td>-0.956756</td>\n",
       "      <td>0.388837</td>\n",
       "      <td>0.339276</td>\n",
       "      <td>1.339282</td>\n",
       "      <td>-0.093568</td>\n",
       "    </tr>\n",
       "    <tr>\n",
       "      <th>...</th>\n",
       "      <td>...</td>\n",
       "      <td>...</td>\n",
       "      <td>...</td>\n",
       "      <td>...</td>\n",
       "      <td>...</td>\n",
       "      <td>...</td>\n",
       "      <td>...</td>\n",
       "      <td>...</td>\n",
       "    </tr>\n",
       "    <tr>\n",
       "      <th>4335</th>\n",
       "      <td>-0.306406</td>\n",
       "      <td>0.176844</td>\n",
       "      <td>0.487334</td>\n",
       "      <td>-0.956756</td>\n",
       "      <td>0.388837</td>\n",
       "      <td>0.339276</td>\n",
       "      <td>1.339282</td>\n",
       "      <td>-0.162716</td>\n",
       "    </tr>\n",
       "    <tr>\n",
       "      <th>4336</th>\n",
       "      <td>-0.308910</td>\n",
       "      <td>0.176844</td>\n",
       "      <td>0.487334</td>\n",
       "      <td>-0.956756</td>\n",
       "      <td>0.388837</td>\n",
       "      <td>0.339276</td>\n",
       "      <td>1.339282</td>\n",
       "      <td>-0.162716</td>\n",
       "    </tr>\n",
       "    <tr>\n",
       "      <th>4337</th>\n",
       "      <td>0.120918</td>\n",
       "      <td>-1.006485</td>\n",
       "      <td>0.545532</td>\n",
       "      <td>1.007753</td>\n",
       "      <td>0.388837</td>\n",
       "      <td>0.339276</td>\n",
       "      <td>1.339282</td>\n",
       "      <td>-0.681313</td>\n",
       "    </tr>\n",
       "    <tr>\n",
       "      <th>4338</th>\n",
       "      <td>-0.882425</td>\n",
       "      <td>0.689256</td>\n",
       "      <td>0.676757</td>\n",
       "      <td>-0.956756</td>\n",
       "      <td>0.388837</td>\n",
       "      <td>0.339276</td>\n",
       "      <td>-0.727470</td>\n",
       "      <td>0.623827</td>\n",
       "    </tr>\n",
       "    <tr>\n",
       "      <th>4339</th>\n",
       "      <td>0.985497</td>\n",
       "      <td>0.689256</td>\n",
       "      <td>-0.455465</td>\n",
       "      <td>1.007753</td>\n",
       "      <td>0.388837</td>\n",
       "      <td>0.339276</td>\n",
       "      <td>-0.727470</td>\n",
       "      <td>-0.482517</td>\n",
       "    </tr>\n",
       "  </tbody>\n",
       "</table>\n",
       "<p>4340 rows × 8 columns</p>\n",
       "</div>"
      ],
      "text/plain": [
       "          name      year  km_driven      fuel  seller_type  transmission  \\\n",
       "0     0.116145 -1.443267   0.283661  1.007753     0.388837      0.339276   \n",
       "1     0.732892 -1.443267  -0.181462  1.007753     0.388837      0.339276   \n",
       "2    -0.553219 -0.312741   0.854361 -0.956756     0.388837      0.339276   \n",
       "3    -1.668851  0.954345  -0.286877  1.007753     0.388837      0.339276   \n",
       "4    -1.168738  0.176844   1.491549 -0.956756     0.388837      0.339276   \n",
       "...        ...       ...        ...       ...          ...           ...   \n",
       "4335 -0.306406  0.176844   0.487334 -0.956756     0.388837      0.339276   \n",
       "4336 -0.308910  0.176844   0.487334 -0.956756     0.388837      0.339276   \n",
       "4337  0.120918 -1.006485   0.545532  1.007753     0.388837      0.339276   \n",
       "4338 -0.882425  0.689256   0.676757 -0.956756     0.388837      0.339276   \n",
       "4339  0.985497  0.689256  -0.455465  1.007753     0.388837      0.339276   \n",
       "\n",
       "         owner  selling_price  \n",
       "0    -0.727470      -0.767746  \n",
       "1    -0.727470      -0.638096  \n",
       "2    -0.727470       0.165731  \n",
       "3    -0.727470      -0.439300  \n",
       "4     1.339282      -0.093568  \n",
       "...        ...            ...  \n",
       "4335  1.339282      -0.162716  \n",
       "4336  1.339282      -0.162716  \n",
       "4337  1.339282      -0.681313  \n",
       "4338 -0.727470       0.623827  \n",
       "4339 -0.727470      -0.482517  \n",
       "\n",
       "[4340 rows x 8 columns]"
      ]
     },
     "execution_count": 54,
     "metadata": {},
     "output_type": "execute_result"
    }
   ],
   "source": [
    "from sklearn.preprocessing import StandardScaler\n",
    "import pandas as pd\n",
    "sc=StandardScaler()\n",
    "def scale_ss(dataframe):\n",
    "    list_col_object=[col for col in list(dataframe.columns) if dataframe[col].dtypes==\"object\"]\n",
    "    list_col_num=[col for col in list(dataframe.columns) if dataframe[col].dtypes!=\"object\"]\n",
    "    df_num=dataframe[list_col_num]\n",
    "    array_data=sc.fit_transform(df_num)\n",
    "    df_num=pd.DataFrame(array_data,columns=df_num.columns)\n",
    "    df=pd.concat([df_num,dataframe[list_col_object]],axis=1)\n",
    "    return df\n",
    "df_scaled_standard_scaler=scale_ss(df)\n",
    "df_scaled_standard_scaler"
   ]
  },
  {
   "cell_type": "markdown",
   "id": "3bf0c251",
   "metadata": {},
   "source": [
    "# MinMax Scaler"
   ]
  },
  {
   "cell_type": "code",
   "execution_count": 28,
   "id": "fdff1d06",
   "metadata": {},
   "outputs": [
    {
     "data": {
      "text/html": [
       "<div>\n",
       "<style scoped>\n",
       "    .dataframe tbody tr th:only-of-type {\n",
       "        vertical-align: middle;\n",
       "    }\n",
       "\n",
       "    .dataframe tbody tr th {\n",
       "        vertical-align: top;\n",
       "    }\n",
       "\n",
       "    .dataframe thead th {\n",
       "        text-align: right;\n",
       "    }\n",
       "</style>\n",
       "<table border=\"1\" class=\"dataframe\">\n",
       "  <thead>\n",
       "    <tr style=\"text-align: right;\">\n",
       "      <th></th>\n",
       "      <th>name</th>\n",
       "      <th>year</th>\n",
       "      <th>km_driven</th>\n",
       "      <th>fuel</th>\n",
       "      <th>seller_type</th>\n",
       "      <th>transmission</th>\n",
       "      <th>owner</th>\n",
       "      <th>selling_price</th>\n",
       "    </tr>\n",
       "  </thead>\n",
       "  <tbody>\n",
       "    <tr>\n",
       "      <th>0</th>\n",
       "      <td>0.175548</td>\n",
       "      <td>-0.087692</td>\n",
       "      <td>-0.292095</td>\n",
       "      <td>1.000000</td>\n",
       "      <td>-0.209003</td>\n",
       "      <td>1.0</td>\n",
       "      <td>-1.000000</td>\n",
       "      <td>-0.990991</td>\n",
       "    </tr>\n",
       "    <tr>\n",
       "      <th>1</th>\n",
       "      <td>0.494368</td>\n",
       "      <td>-0.087692</td>\n",
       "      <td>-0.386884</td>\n",
       "      <td>1.000000</td>\n",
       "      <td>-0.209003</td>\n",
       "      <td>1.0</td>\n",
       "      <td>-1.000000</td>\n",
       "      <td>-0.974099</td>\n",
       "    </tr>\n",
       "    <tr>\n",
       "      <th>2</th>\n",
       "      <td>-0.170472</td>\n",
       "      <td>0.293005</td>\n",
       "      <td>-0.175791</td>\n",
       "      <td>-0.196388</td>\n",
       "      <td>-0.209003</td>\n",
       "      <td>1.0</td>\n",
       "      <td>-1.000000</td>\n",
       "      <td>-0.869369</td>\n",
       "    </tr>\n",
       "    <tr>\n",
       "      <th>3</th>\n",
       "      <td>-0.747185</td>\n",
       "      <td>0.719688</td>\n",
       "      <td>-0.408367</td>\n",
       "      <td>1.000000</td>\n",
       "      <td>-0.209003</td>\n",
       "      <td>1.0</td>\n",
       "      <td>-1.000000</td>\n",
       "      <td>-0.948198</td>\n",
       "    </tr>\n",
       "    <tr>\n",
       "      <th>4</th>\n",
       "      <td>-0.488658</td>\n",
       "      <td>0.457869</td>\n",
       "      <td>-0.045937</td>\n",
       "      <td>-0.196388</td>\n",
       "      <td>-0.209003</td>\n",
       "      <td>1.0</td>\n",
       "      <td>0.802395</td>\n",
       "      <td>-0.903153</td>\n",
       "    </tr>\n",
       "    <tr>\n",
       "      <th>...</th>\n",
       "      <td>...</td>\n",
       "      <td>...</td>\n",
       "      <td>...</td>\n",
       "      <td>...</td>\n",
       "      <td>...</td>\n",
       "      <td>...</td>\n",
       "      <td>...</td>\n",
       "      <td>...</td>\n",
       "    </tr>\n",
       "    <tr>\n",
       "      <th>4335</th>\n",
       "      <td>-0.042885</td>\n",
       "      <td>0.457869</td>\n",
       "      <td>-0.250588</td>\n",
       "      <td>-0.196388</td>\n",
       "      <td>-0.209003</td>\n",
       "      <td>1.0</td>\n",
       "      <td>0.802395</td>\n",
       "      <td>-0.912162</td>\n",
       "    </tr>\n",
       "    <tr>\n",
       "      <th>4336</th>\n",
       "      <td>-0.044179</td>\n",
       "      <td>0.457869</td>\n",
       "      <td>-0.250588</td>\n",
       "      <td>-0.196388</td>\n",
       "      <td>-0.209003</td>\n",
       "      <td>1.0</td>\n",
       "      <td>0.802395</td>\n",
       "      <td>-0.912162</td>\n",
       "    </tr>\n",
       "    <tr>\n",
       "      <th>4337</th>\n",
       "      <td>0.178015</td>\n",
       "      <td>0.059391</td>\n",
       "      <td>-0.238728</td>\n",
       "      <td>1.000000</td>\n",
       "      <td>-0.209003</td>\n",
       "      <td>1.0</td>\n",
       "      <td>0.802395</td>\n",
       "      <td>-0.979730</td>\n",
       "    </tr>\n",
       "    <tr>\n",
       "      <th>4338</th>\n",
       "      <td>-0.340652</td>\n",
       "      <td>0.630421</td>\n",
       "      <td>-0.211985</td>\n",
       "      <td>-0.196388</td>\n",
       "      <td>-0.209003</td>\n",
       "      <td>1.0</td>\n",
       "      <td>-1.000000</td>\n",
       "      <td>-0.809685</td>\n",
       "    </tr>\n",
       "    <tr>\n",
       "      <th>4339</th>\n",
       "      <td>0.624950</td>\n",
       "      <td>0.630421</td>\n",
       "      <td>-0.442724</td>\n",
       "      <td>1.000000</td>\n",
       "      <td>-0.209003</td>\n",
       "      <td>1.0</td>\n",
       "      <td>-1.000000</td>\n",
       "      <td>-0.953829</td>\n",
       "    </tr>\n",
       "  </tbody>\n",
       "</table>\n",
       "<p>4340 rows × 8 columns</p>\n",
       "</div>"
      ],
      "text/plain": [
       "          name      year  km_driven      fuel  seller_type  transmission  \\\n",
       "0     0.175548 -0.087692  -0.292095  1.000000    -0.209003           1.0   \n",
       "1     0.494368 -0.087692  -0.386884  1.000000    -0.209003           1.0   \n",
       "2    -0.170472  0.293005  -0.175791 -0.196388    -0.209003           1.0   \n",
       "3    -0.747185  0.719688  -0.408367  1.000000    -0.209003           1.0   \n",
       "4    -0.488658  0.457869  -0.045937 -0.196388    -0.209003           1.0   \n",
       "...        ...       ...        ...       ...          ...           ...   \n",
       "4335 -0.042885  0.457869  -0.250588 -0.196388    -0.209003           1.0   \n",
       "4336 -0.044179  0.457869  -0.250588 -0.196388    -0.209003           1.0   \n",
       "4337  0.178015  0.059391  -0.238728  1.000000    -0.209003           1.0   \n",
       "4338 -0.340652  0.630421  -0.211985 -0.196388    -0.209003           1.0   \n",
       "4339  0.624950  0.630421  -0.442724  1.000000    -0.209003           1.0   \n",
       "\n",
       "         owner  selling_price  \n",
       "0    -1.000000      -0.990991  \n",
       "1    -1.000000      -0.974099  \n",
       "2    -1.000000      -0.869369  \n",
       "3    -1.000000      -0.948198  \n",
       "4     0.802395      -0.903153  \n",
       "...        ...            ...  \n",
       "4335  0.802395      -0.912162  \n",
       "4336  0.802395      -0.912162  \n",
       "4337  0.802395      -0.979730  \n",
       "4338 -1.000000      -0.809685  \n",
       "4339 -1.000000      -0.953829  \n",
       "\n",
       "[4340 rows x 8 columns]"
      ]
     },
     "execution_count": 28,
     "metadata": {},
     "output_type": "execute_result"
    }
   ],
   "source": [
    "from sklearn.preprocessing import MinMaxScaler\n",
    "mms=MinMaxScaler(feature_range=(-1, 1))\n",
    "def scale_mms(dataframe):\n",
    "    list_col_object=[col for col in list(dataframe.columns) if dataframe[col].dtypes==\"object\"]\n",
    "    list_col_num=[col for col in list(dataframe.columns) if dataframe[col].dtypes!=\"object\"]\n",
    "    df_num=dataframe[list_col_num]\n",
    "    df_obj=dataframe[list_col_object]\n",
    "    array_data=mms.fit_transform(df_num)\n",
    "    df_num=pd.DataFrame(array_data,columns=df_num.columns)\n",
    "    df=pd.concat([df_num,df_obj],axis=1)\n",
    "    return df\n",
    "dataframe_mms_scaled=scale_mms(df)\n",
    "dataframe_mms_scaled"
   ]
  },
  {
   "cell_type": "markdown",
   "id": "ff5bbd02",
   "metadata": {},
   "source": [
    "# Train Test Split method\n",
    "''' Train test split method will split the data into training and testing data randomly.\n",
    "\n",
    "Steps involved in splitting the data:\n",
    "\n",
    "Split the feature and the target column.\n",
    "\n",
    "Pass parameter random_state, test_size and shuffle.\n",
    "\n",
    "It will return four values. x_train, x_test,y_train,y_test\n",
    "\n",
    "x_train : This is the training data of the feature columns. x_test: This is the testting of the feature column. y_train: This is the training data of the target column y_test: This is the testing data of the target column.\n",
    "\n",
    "The number of rows of x_train and y_train will be same. Number of columns will be different. The number of rows of x_test and y_test will be same. Number of columns will be different. '''"
   ]
  },
  {
   "cell_type": "code",
   "execution_count": 35,
   "id": "aac4ac76",
   "metadata": {},
   "outputs": [],
   "source": [
    "# splitting of data:\n",
    "from sklearn.model_selection import train_test_split\n",
    "def split_data(df):\n",
    "    feature_df=df.drop([\"selling_price\"],axis=1)\n",
    "    target_df=df[[\"selling_price\"]]\n",
    "    x_train,x_test,y_train,y_test=train_test_split(feature_df,target_df,random_state=0,test_size=0.2,shuffle=True)\n",
    "    return x_train,x_test,y_train,y_test\n",
    "x_train,x_test,y_train,y_test=split_data(df)"
   ]
  },
  {
   "cell_type": "markdown",
   "id": "d10191ad",
   "metadata": {},
   "source": [
    "# Model training"
   ]
  },
  {
   "cell_type": "code",
   "execution_count": 56,
   "id": "f2f3003f",
   "metadata": {},
   "outputs": [
    {
     "data": {
      "text/plain": [
       "LinearRegression()"
      ]
     },
     "execution_count": 56,
     "metadata": {},
     "output_type": "execute_result"
    }
   ],
   "source": [
    "#x_train,y_train is used for the model training. x_test,y_test is used for the model testing\n",
    "from sklearn.linear_model import LinearRegression\n",
    "lr=LinearRegression()\n",
    "lr.fit(x_train,y_train)"
   ]
  },
  {
   "cell_type": "code",
   "execution_count": 52,
   "id": "5ca7d17d",
   "metadata": {},
   "outputs": [
    {
     "name": "stdout",
     "output_type": "stream",
     "text": [
      "The accuracy of the regression model is 44.110192703468506%\n",
      "The accuracy of the regression model is 49.99441988511367%\n"
     ]
    }
   ],
   "source": [
    "# Testing the accuracy of the model on training data:\n",
    "from sklearn.metrics import r2_score\n",
    "print(f\"The accuracy of the regression model is {r2_score(y_train,lr.predict(x_train))*100}%\")\n",
    "print(f\"The accuracy of the regression model is {r2_score(y_test,lr.predict(x_test))*100}%\")"
   ]
  },
  {
   "cell_type": "markdown",
   "id": "637a89c6",
   "metadata": {},
   "source": [
    "# Others metrics for validating the model"
   ]
  },
  {
   "cell_type": "code",
   "execution_count": 41,
   "id": "b0fa357b",
   "metadata": {},
   "outputs": [
    {
     "data": {
      "text/plain": [
       "'The mean_squared_error of the model is 185696323190.12198'"
      ]
     },
     "execution_count": 41,
     "metadata": {},
     "output_type": "execute_result"
    }
   ],
   "source": [
    "# mean squared error\n",
    "from sklearn.metrics import mean_squared_error\n",
    "def test_mean_squared_error(x_test,y_test):\n",
    "    expected_data=y_test\n",
    "    actual=lr.predict(x_test)\n",
    "    return f\"The mean_squared_error of the model is {mean_squared_error(actual,expected_data)}\"\n",
    "test_mean_squared_error(x_test,y_test)"
   ]
  },
  {
   "cell_type": "code",
   "execution_count": 15,
   "id": "25ffb71f",
   "metadata": {},
   "outputs": [
    {
     "data": {
      "text/plain": [
       "'The mean_absolute_error of the model is 244275.94708444213'"
      ]
     },
     "execution_count": 15,
     "metadata": {},
     "output_type": "execute_result"
    }
   ],
   "source": [
    "# mean absolute error\n",
    "from sklearn.metrics import mean_absolute_error\n",
    "def test_mean_absolute_error(x_test,y_test):\n",
    "    expected_data=y_test\n",
    "    actual=lr.predict(x_test)\n",
    "    return f\"The mean_absolute_error of the model is {mean_absolute_error(actual,expected_data)}\"\n",
    "test_mean_absolute_error(x_test,y_test)"
   ]
  },
  {
   "cell_type": "code",
   "execution_count": 16,
   "id": "f79d3829",
   "metadata": {},
   "outputs": [
    {
     "data": {
      "text/plain": [
       "'The mean_absolute_error of the model is 494.2428017527844'"
      ]
     },
     "execution_count": 16,
     "metadata": {},
     "output_type": "execute_result"
    }
   ],
   "source": [
    "# root mean square error\n",
    "from sklearn.metrics import mean_squared_error\n",
    "import numpy as np\n",
    "def test_root_mean_absolute_error(x_test,y_test):\n",
    "    expected_data=y_test\n",
    "    actual=lr.predict(x_test)\n",
    "    return f\"The mean_absolute_error of the model is {np.sqrt(mean_absolute_error(actual,expected_data))}\"\n",
    "test_root_mean_absolute_error(x_test,y_test)"
   ]
  },
  {
   "cell_type": "markdown",
   "id": "5b00ea17",
   "metadata": {},
   "source": [
    "# Model Training using random forest regressor:"
   ]
  },
  {
   "cell_type": "code",
   "execution_count": 42,
   "id": "3f8467c8",
   "metadata": {},
   "outputs": [
    {
     "name": "stderr",
     "output_type": "stream",
     "text": [
      "C:\\Users\\Mandar\\AppData\\Local\\Temp\\ipykernel_13300\\2631314196.py:5: DataConversionWarning: A column-vector y was passed when a 1d array was expected. Please change the shape of y to (n_samples,), for example using ravel().\n",
      "  rfr.fit(x_train,y_train)\n"
     ]
    },
    {
     "name": "stdout",
     "output_type": "stream",
     "text": [
      "\n",
      "    The accuracy of the Random Forest Regressor model on the training data is 96.8270422994955% and on the \n",
      "    testing data is 82.20463165004128%.\n",
      "    \n"
     ]
    }
   ],
   "source": [
    "from sklearn.ensemble import RandomForestRegressor\n",
    "from sklearn.metrics import r2_score\n",
    "rfr=RandomForestRegressor()\n",
    "def model_validation_rfr(x_train,x_test,y_train,y_test):\n",
    "    rfr.fit(x_train,y_train)\n",
    "    predicted_tr=rfr.predict(x_train)\n",
    "    predicted_ts=rfr.predict(x_test)\n",
    "    print(f'''\n",
    "    The accuracy of the Random Forest Regressor model on the training data is {r2_score(y_train,predicted_tr)*100}% and on the \n",
    "    testing data is {r2_score(y_test,predicted_ts)*100}%.\n",
    "    ''')\n",
    "model_validation_rfr(x_train,x_test,y_train,y_test)"
   ]
  },
  {
   "cell_type": "markdown",
   "id": "15b2838b",
   "metadata": {},
   "source": [
    "# Model Training using Boosting Regressor:"
   ]
  },
  {
   "cell_type": "code",
   "execution_count": 43,
   "id": "b81fe383",
   "metadata": {},
   "outputs": [
    {
     "name": "stderr",
     "output_type": "stream",
     "text": [
      "C:\\Users\\Mandar\\anaconda3\\lib\\site-packages\\sklearn\\ensemble\\_gb.py:494: DataConversionWarning: A column-vector y was passed when a 1d array was expected. Please change the shape of y to (n_samples, ), for example using ravel().\n",
      "  y = column_or_1d(y, warn=True)\n"
     ]
    },
    {
     "data": {
      "text/plain": [
       "'\\n    The accuracy of the gbr with default for training data is 85.27340966043242 %.\\n    The accuracy of the gbr with default for testing data is 80.3201119222664 %.\\n    '"
      ]
     },
     "execution_count": 43,
     "metadata": {},
     "output_type": "execute_result"
    }
   ],
   "source": [
    "from sklearn.ensemble import GradientBoostingRegressor\n",
    "from sklearn.metrics import r2_score\n",
    "def model_validation(x_train,x_test,y_train,y_test):\n",
    "    gbr=GradientBoostingRegressor()\n",
    "    gbr.fit(x_train,y_train)\n",
    "    predicted_tr=gbr.predict(x_train)\n",
    "    predicted_ts=gbr.predict(x_test)\n",
    "    return f'''\n",
    "    The accuracy of the gbr with default for training data is {r2_score(y_train,predicted_tr)*100} %.\n",
    "    The accuracy of the gbr with default for testing data is {r2_score(y_test,predicted_ts)*100} %.\n",
    "    '''\n",
    "model_validation(x_train,x_test,y_train,y_test)"
   ]
  },
  {
   "cell_type": "markdown",
   "id": "bf8b3909",
   "metadata": {},
   "source": [
    "# Hyper parameter tuning with grid search cv:\n",
    "\n",
    "Cross-validation is used when you need to compare the efficacy of various hyperparameter settings throughout the tuning process. The model is trained and tested for each possible hyperparameter setting, and the results are summarized over k iterations to provide an overall performance score."
   ]
  },
  {
   "cell_type": "code",
   "execution_count": 19,
   "id": "01f7ce17",
   "metadata": {},
   "outputs": [
    {
     "name": "stderr",
     "output_type": "stream",
     "text": [
      "C:\\Users\\Mandar\\anaconda3\\lib\\site-packages\\sklearn\\ensemble\\_gb.py:494: DataConversionWarning: A column-vector y was passed when a 1d array was expected. Please change the shape of y to (n_samples, ), for example using ravel().\n",
      "  y = column_or_1d(y, warn=True)\n"
     ]
    },
    {
     "data": {
      "text/plain": [
       "'\\n    The accuracy of the gbr with default for training data is 71.02772454947772 %.\\n    The accuracy of the gbr with default for testing data is 77.08072446967094 %.\\n    '"
      ]
     },
     "execution_count": 19,
     "metadata": {},
     "output_type": "execute_result"
    }
   ],
   "source": [
    "from sklearn.ensemble import GradientBoostingRegressor\n",
    "def model_training_best_parameters(x_train,x_test,y_train,y_test):\n",
    "    gbr=GradientBoostingRegressor(learning_rate=0.1,loss=\"huber\")\n",
    "    gbr.fit(x_train,y_train)\n",
    "    predicted_tr=gbr.predict(x_train)\n",
    "    predicted_ts=gbr.predict(x_test)\n",
    "    return f'''\n",
    "    The accuracy of the gbr with default for training data is {r2_score(y_train,predicted_tr)*100} %.\n",
    "    The accuracy of the gbr with default for testing data is {r2_score(y_test,predicted_ts)*100} %.\n",
    "    '''\n",
    "model_training_best_parameters(x_train,x_test,y_train,y_test)"
   ]
  },
  {
   "cell_type": "code",
   "execution_count": 44,
   "id": "cf8f3b48",
   "metadata": {},
   "outputs": [
    {
     "data": {
      "text/plain": [
       "'\\n    The accuracy of the abr with default for training data is 83.56774049253923 %.\\n    The accuracy of the abr with default for testing data is 74.85927895832243 %.\\n    '"
      ]
     },
     "execution_count": 44,
     "metadata": {},
     "output_type": "execute_result"
    }
   ],
   "source": [
    "import xgboost as xgb\n",
    "def model_validation(x_train,x_test,y_train,y_test):\n",
    "    xgb_reg=xgb.XGBRFRegressor()\n",
    "    xgb_reg.fit(x_train,y_train)\n",
    "    predicted_tr=xgb_reg.predict(x_train)\n",
    "    predicted_ts=xgb_reg.predict(x_test)\n",
    "    return f'''\n",
    "    The accuracy of the abr with default for training data is {r2_score(y_train,predicted_tr)*100} %.\n",
    "    The accuracy of the abr with default for testing data is {r2_score(y_test,predicted_ts)*100} %.\n",
    "    '''\n",
    "model_validation(x_train,x_test,y_train,y_test)"
   ]
  },
  {
   "cell_type": "markdown",
   "id": "87d1915b",
   "metadata": {},
   "source": [
    "# Model Training using Bayesian Regression:"
   ]
  },
  {
   "cell_type": "code",
   "execution_count": 46,
   "id": "4d8934c8",
   "metadata": {},
   "outputs": [
    {
     "name": "stdout",
     "output_type": "stream",
     "text": [
      "MSE train data: 1.818e+11, MSE test data: 1.8578e+11\n",
      "RMSE train data: 4.2638e+05, RMSE test data: 4.2638e+05\n",
      "R2 train data: 0.4411, R2 test data: 0.49971\n"
     ]
    },
    {
     "name": "stderr",
     "output_type": "stream",
     "text": [
      "C:\\Users\\Mandar\\anaconda3\\lib\\site-packages\\sklearn\\utils\\validation.py:993: DataConversionWarning: A column-vector y was passed when a 1d array was expected. Please change the shape of y to (n_samples, ), for example using ravel().\n",
      "  y = column_or_1d(y, warn=True)\n"
     ]
    }
   ],
   "source": [
    "from sklearn.linear_model import BayesianRidge\n",
    "br = BayesianRidge().fit(x_train, y_train)\n",
    "\n",
    "br_train_pred = br.predict(x_train)\n",
    "br_test_pred = br.predict(x_test)\n",
    "\n",
    "\n",
    "br_train_mse = mean_squared_error(y_train, br_train_pred)\n",
    "br_test_mse = mean_squared_error(y_test, br_test_pred)\n",
    "\n",
    "\n",
    "print('MSE train data: {:.5}, MSE test data: {:.5}'.format(br_train_mse, br_test_mse))\n",
    "\n",
    "print('RMSE train data: {:.5}, RMSE test data: {:.5}'.format(\n",
    "    np.sqrt(np.absolute(br_train_mse)), \n",
    "    np.sqrt(np.absolute(br_train_mse))))\n",
    "                                                               \n",
    "print('R2 train data: {:.5}, R2 test data: {:.5}'.format(\n",
    "    r2_score(y_train, br_train_pred),\n",
    "    r2_score(y_test, br_test_pred)))"
   ]
  },
  {
   "cell_type": "code",
   "execution_count": 49,
   "id": "5471a663",
   "metadata": {},
   "outputs": [
    {
     "name": "stderr",
     "output_type": "stream",
     "text": [
      "C:\\Users\\Mandar\\anaconda3\\lib\\site-packages\\sklearn\\utils\\validation.py:993: DataConversionWarning: A column-vector y was passed when a 1d array was expected. Please change the shape of y to (n_samples, ), for example using ravel().\n",
      "  y = column_or_1d(y, warn=True)\n"
     ]
    },
    {
     "data": {
      "text/plain": [
       "'\\n    The accuracy of the BR with default for training data is 44.10986904946639 %.\\n    The accuracy of the BR with default for testing data is 49.97059371099828 %.\\n    '"
      ]
     },
     "execution_count": 49,
     "metadata": {},
     "output_type": "execute_result"
    }
   ],
   "source": [
    "from sklearn.linear_model import BayesianRidge\n",
    "def model_validation(x_train,x_test,y_train,y_test):\n",
    "    br = BayesianRidge()\n",
    "    br.fit(x_train,y_train)\n",
    "    br_train_pred = br.predict(x_train)\n",
    "    br_test_pred = br.predict(x_test)\n",
    "    return f'''\n",
    "    The accuracy of the BR with default for training data is {r2_score(y_train,br_train_pred)*100} %.\n",
    "    The accuracy of the BR with default for testing data is {r2_score(y_test,br_test_pred)*100} %.\n",
    "    '''\n",
    "model_validation(x_train,x_test,y_train,y_test)"
   ]
  },
  {
   "cell_type": "code",
   "execution_count": null,
   "id": "21c02cd6",
   "metadata": {},
   "outputs": [],
   "source": []
  }
 ],
 "metadata": {
  "kernelspec": {
   "display_name": "Python 3 (ipykernel)",
   "language": "python",
   "name": "python3"
  },
  "language_info": {
   "codemirror_mode": {
    "name": "ipython",
    "version": 3
   },
   "file_extension": ".py",
   "mimetype": "text/x-python",
   "name": "python",
   "nbconvert_exporter": "python",
   "pygments_lexer": "ipython3",
   "version": "3.9.13"
  }
 },
 "nbformat": 4,
 "nbformat_minor": 5
}
